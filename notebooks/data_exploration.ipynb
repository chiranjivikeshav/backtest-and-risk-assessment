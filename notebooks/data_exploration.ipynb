{
 "cells": [
  {
   "cell_type": "code",
   "execution_count": 2,
   "metadata": {},
   "outputs": [],
   "source": [
    "import pandas as pd\n",
    "csv_filename = \"../data/test_deribit_data.csv\"\n",
    "df = pd.read_csv(csv_filename)"
   ]
  },
  {
   "cell_type": "code",
   "execution_count": 3,
   "metadata": {},
   "outputs": [
    {
     "name": "stdout",
     "output_type": "stream",
     "text": [
      "First 5 rows of the dataset:\n",
      "       Timestamp     Open     High      Low    Close    Volume\n",
      "0  1704699960000  43900.0  43904.5  43899.0  43899.0  1.340290\n",
      "1  1704700020000  43899.0  43899.0  43899.0  43899.0  0.000000\n",
      "2  1704700080000  43882.5  43890.0  43882.5  43887.0  1.842701\n",
      "3  1704700140000  43910.0  43910.5  43906.5  43906.5  0.045549\n",
      "4  1704700200000  43909.0  43909.0  43909.0  43909.0  1.154661\n",
      "\n",
      "Column Names:\n",
      "Index(['Timestamp', 'Open', 'High', 'Low', 'Close', 'Volume'], dtype='object')\n",
      "\n",
      "Missing Values:\n",
      "Timestamp    0\n",
      "Open         0\n",
      "High         0\n",
      "Low          0\n",
      "Close        0\n",
      "Volume       0\n",
      "dtype: int64\n",
      "\n",
      "Number of Duplicate Rows: 0\n",
      "\n",
      "Basic Statistical Summary:\n",
      "          Timestamp          Open          High           Low         Close  \\\n",
      "count  5.001000e+03   5001.000000   5001.000000   5001.000000   5001.000000   \n",
      "mean   1.704850e+12  46172.940812  46189.944911  46156.111878  46174.747650   \n",
      "std    8.662852e+07    836.455296    836.716052    836.324216    835.644015   \n",
      "min    1.704700e+12  43732.000000  43736.500000  43703.500000  43732.000000   \n",
      "25%    1.704775e+12  45720.500000  45753.000000  45696.000000  45725.000000   \n",
      "50%    1.704850e+12  46344.000000  46370.500000  46326.500000  46345.000000   \n",
      "75%    1.704925e+12  46765.000000  46774.000000  46758.500000  46766.000000   \n",
      "max    1.705000e+12  48978.500000  49050.000000  48887.000000  49001.000000   \n",
      "\n",
      "            Volume  \n",
      "count  5001.000000  \n",
      "mean     11.600007  \n",
      "std      41.660002  \n",
      "min       0.000000  \n",
      "25%       0.000425  \n",
      "50%       1.013766  \n",
      "75%      10.735990  \n",
      "max    1506.023910  \n",
      "\n",
      "Column Data Types:\n",
      "Timestamp      int64\n",
      "Open         float64\n",
      "High         float64\n",
      "Low          float64\n",
      "Close        float64\n",
      "Volume       float64\n",
      "dtype: object\n"
     ]
    }
   ],
   "source": [
    "# Display the first few rows\n",
    "print(\"First 5 rows of the dataset:\")\n",
    "print(df.head())\n",
    "\n",
    "# Display column names\n",
    "print(\"\\nColumn Names:\")\n",
    "print(df.columns)\n",
    "\n",
    "# Check for missing values\n",
    "print(\"\\nMissing Values:\")\n",
    "print(df.isnull().sum())\n",
    "\n",
    "# Check for duplicate rows\n",
    "print(\"\\nNumber of Duplicate Rows:\", df.duplicated().sum())\n",
    "\n",
    "# Display basic statistics\n",
    "print(\"\\nBasic Statistical Summary:\")\n",
    "print(df.describe())\n",
    "\n",
    "# Check data types of each column\n",
    "print(\"\\nColumn Data Types:\")\n",
    "print(df.dtypes)"
   ]
  },
  {
   "cell_type": "code",
   "execution_count": 6,
   "metadata": {},
   "outputs": [
    {
     "name": "stdout",
     "output_type": "stream",
     "text": [
      "            Timestamp     Open     High      Low    Close    Volume\n",
      "0 2024-01-08 07:46:00  43900.0  43904.5  43899.0  43899.0  1.340290\n",
      "1 2024-01-08 07:47:00  43899.0  43899.0  43899.0  43899.0  0.000000\n",
      "2 2024-01-08 07:48:00  43882.5  43890.0  43882.5  43887.0  1.842701\n",
      "3 2024-01-08 07:49:00  43910.0  43910.5  43906.5  43906.5  0.045549\n",
      "4 2024-01-08 07:50:00  43909.0  43909.0  43909.0  43909.0  1.154661\n"
     ]
    }
   ],
   "source": [
    "# Convert timestamp from milliseconds to datetime\n",
    "df[\"Timestamp\"] = pd.to_datetime(df[\"Timestamp\"], unit=\"ms\")\n",
    "\n",
    "# Save cleaned data\n",
    "df.to_csv(\"../data/test_cleaned_data.csv\", index=False)\n",
    "\n",
    "# Display the first few rows\n",
    "print(df.head())"
   ]
  }
 ],
 "metadata": {
  "kernelspec": {
   "display_name": "myenv",
   "language": "python",
   "name": "python3"
  },
  "language_info": {
   "codemirror_mode": {
    "name": "ipython",
    "version": 3
   },
   "file_extension": ".py",
   "mimetype": "text/x-python",
   "name": "python",
   "nbconvert_exporter": "python",
   "pygments_lexer": "ipython3",
   "version": "3.12.3"
  }
 },
 "nbformat": 4,
 "nbformat_minor": 2
}
